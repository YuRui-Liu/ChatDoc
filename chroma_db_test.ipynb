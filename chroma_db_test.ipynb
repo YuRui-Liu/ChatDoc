{
 "cells": [
  {
   "cell_type": "markdown",
   "metadata": {
    "collapsed": false
   },
   "source": [
    "# ragas评估"
   ]
  },
  {
   "cell_type": "markdown",
   "metadata": {
    "collapsed": false
   },
   "source": [
    "## rag pipline"
   ]
  },
  {
   "cell_type": "code",
   "execution_count": 1,
   "metadata": {
    "collapsed": false
   },
   "outputs": [],
   "source": [
    "import warnings\n",
    "warnings.filterwarnings('ignore')\n",
    "from model import RagEmbedding, RagLLM, QwenLLM\n",
    "from langchain_chroma import Chroma\n",
    "import chromadb"
   ]
  },
  {
   "cell_type": "code",
   "execution_count": 2,
   "metadata": {
    "collapsed": false
   },
   "outputs": [],
   "source": [
    "sys_prompt = \"你是企业员工助手，熟悉公司考勤和报销标准等规章制度，需要根据提供的上下文信息context来回答员工的提问。\\\n",
    "请直接回答问题，如果上下文信息context没有和问题相关的信息，请直接回答[不知道,请咨询HR] \"\n",
    "llm = RagLLM(sys_prompt=sys_prompt)"
   ]
  },
  {
   "cell_type": "code",
   "execution_count": 3,
   "metadata": {
    "collapsed": false
   },
   "outputs": [
    {
     "name": "stderr",
     "output_type": "stream",
     "text": [
      "d:\\Desktop\\LLM资料\\Proj\\ChatDoc_RagLangChain\\ChatDoc1.0\\model.py:99: LangChainDeprecationWarning: The class `HuggingFaceEmbeddings` was deprecated in LangChain 0.2.2 and will be removed in 1.0. An updated version of the class exists in the :class:`~langchain-huggingface package and should be used instead. To use it run `pip install -U :class:`~langchain-huggingface` and import as `from :class:`~langchain_huggingface import HuggingFaceEmbeddings``.\n",
      "  self.embedding = HuggingFaceEmbeddings(model_name=model_path,\n"
     ]
    }
   ],
   "source": [
    "# 加载向量库\n",
    "embedding_model = RagEmbedding()"
   ]
  },
  {
   "cell_type": "code",
   "execution_count": 4,
   "metadata": {
    "collapsed": false
   },
   "outputs": [],
   "source": [
    "# chroma_client = chromadb.HttpClient(host=\"localhost\", port=8000)\n",
    "chroma_client = chromadb.PersistentClient(path=\"./data/data_base\")"
   ]
  },
  {
   "cell_type": "code",
   "execution_count": 5,
   "metadata": {
    "collapsed": false
   },
   "outputs": [],
   "source": [
    "zhidu_db = Chroma(\"zhidu_db\",\n",
    "                  embedding_model.get_embedding_fun(),\n",
    "                  client=chroma_client)"
   ]
  },
  {
   "cell_type": "code",
   "execution_count": 6,
   "metadata": {
    "collapsed": false
   },
   "outputs": [],
   "source": [
    "from langchain_core.prompts import PromptTemplate\n",
    "\n",
    "prompt_template = \"\"\"\n",
    "问题：{question}\n",
    "\"{context}\"\n",
    "回答：\n",
    "\"\"\"\n",
    "\n",
    "def run_rag_pipline_without_stream(query, k=3):\n",
    "    related_docs = zhidu_db.similarity_search(query, k=k)\n",
    "    context_list = [f\"上下文{i+1}: {doc.page_content} \\n\" \\\n",
    "                         for i, doc in enumerate(related_docs)]\n",
    "    context = \"\\n\".join(context_list)\n",
    "\n",
    "    prompt = PromptTemplate(  # 创建提示模板\n",
    "        input_variables=[\"question\", \"context\"],\n",
    "        template=prompt_template, )  # 使用传入的模板（rule_template）\n",
    "    llm_prompt = prompt.format(question=query, context=context)  # 格式化提示，填入查询和上下文\n",
    "\n",
    "    response = llm(llm_prompt, stream=False)\n",
    "\n",
    "    return response, context_list"
   ]
  },
  {
   "cell_type": "markdown",
   "metadata": {
    "collapsed": false
   },
   "source": [
    "## 构建评估数据集\n",
    "- 问题\n",
    "- 标准答案\n",
    "- 上下文信息\n",
    "- 生成的答案"
   ]
  },
  {
   "cell_type": "code",
   "execution_count": 7,
   "metadata": {
    "collapsed": false
   },
   "outputs": [],
   "source": [
    "questions = [\n",
    "    \"伙食补助费标准是什么?\",\n",
    "    \"出差可以买意外保险吗？需要自己购买吗\",\n",
    "]\n",
    "ground_truths = [\n",
    "    \"伙食补助费标准: 西藏、青海、新疆 120元/人、天 其他省份 100元/人、天\",\n",
    "    \"出差可以购买交通意外保险，由单位统一购买，不再重复购买\",\n",
    "]"
   ]
  },
  {
   "cell_type": "code",
   "execution_count": 8,
   "metadata": {
    "collapsed": false
   },
   "outputs": [],
   "source": [
    "answers = []\n",
    "contexts = []\n",
    "\n",
    "for query in questions:\n",
    "    response, context_list = run_rag_pipline_without_stream(query, k=3)\n",
    "    answers.append(response)\n",
    "    contexts.append(context_list)\n"
   ]
  },
  {
   "cell_type": "code",
   "execution_count": 9,
   "metadata": {
    "collapsed": false
   },
   "outputs": [],
   "source": [
    "from datasets import Dataset"
   ]
  },
  {
   "cell_type": "code",
   "execution_count": 10,
   "metadata": {
    "collapsed": false
   },
   "outputs": [],
   "source": [
    "data = {\n",
    "    \"question\": questions,\n",
    "    \"answer\": answers,\n",
    "    \"contexts\": contexts,\n",
    "    \"ground_truth\": ground_truths\n",
    "}"
   ]
  },
  {
   "cell_type": "code",
   "execution_count": 11,
   "metadata": {
    "collapsed": false
   },
   "outputs": [],
   "source": [
    "dataset = Dataset.from_dict(data)"
   ]
  },
  {
   "cell_type": "code",
   "execution_count": 12,
   "metadata": {
    "collapsed": false
   },
   "outputs": [],
   "source": [
    "from ragas.metrics import (\n",
    "    faithfulness,\n",
    "    answer_relevancy,\n",
    "    context_recall,\n",
    "    context_precision,\n",
    ")\n",
    "from ragas import evaluate\n",
    "from ragas import RunConfig"
   ]
  },
  {
   "cell_type": "code",
   "execution_count": 13,
   "metadata": {
    "collapsed": false
   },
   "outputs": [],
   "source": [
    "eval_llm = QwenLLM(sys_prompt=sys_prompt)\n",
    "embedding_model = RagEmbedding()\n",
    "eval_embedding_fn = embedding_model.get_embedding_fun()"
   ]
  },
  {
   "cell_type": "code",
   "execution_count": 14,
   "metadata": {
    "collapsed": false
   },
   "outputs": [],
   "source": [
    "config = RunConfig(timeout=1200, log_tenacity=True)"
   ]
  },
  {
   "cell_type": "code",
   "execution_count": 15,
   "metadata": {
    "collapsed": false
   },
   "outputs": [
    {
     "data": {
      "application/vnd.jupyter.widget-view+json": {
       "model_id": "29d937fb939c4228a23326ee818b42f4",
       "version_major": 2,
       "version_minor": 0
      },
      "text/plain": [
       "Evaluating:   0%|          | 0/8 [00:00<?, ?it/s]"
      ]
     },
     "metadata": {},
     "output_type": "display_data"
    }
   ],
   "source": [
    "result = evaluate(\n",
    "    dataset = dataset,\n",
    "    llm=eval_llm,\n",
    "    embeddings=eval_embedding_fn,\n",
    "    metrics=[\n",
    "        context_precision,\n",
    "        context_recall,\n",
    "        faithfulness,\n",
    "        answer_relevancy,\n",
    "    ],\n",
    "    raise_exceptions=True,\n",
    "    run_config=config\n",
    ")\n",
    "\n",
    "df = result.to_pandas()"
   ]
  },
  {
   "cell_type": "code",
   "execution_count": 16,
   "metadata": {
    "collapsed": false
   },
   "outputs": [
    {
     "data": {
      "text/html": [
       "<div>\n",
       "<style scoped>\n",
       "    .dataframe tbody tr th:only-of-type {\n",
       "        vertical-align: middle;\n",
       "    }\n",
       "\n",
       "    .dataframe tbody tr th {\n",
       "        vertical-align: top;\n",
       "    }\n",
       "\n",
       "    .dataframe thead th {\n",
       "        text-align: right;\n",
       "    }\n",
       "</style>\n",
       "<table border=\"1\" class=\"dataframe\">\n",
       "  <thead>\n",
       "    <tr style=\"text-align: right;\">\n",
       "      <th></th>\n",
       "      <th>user_input</th>\n",
       "      <th>retrieved_contexts</th>\n",
       "      <th>response</th>\n",
       "      <th>reference</th>\n",
       "      <th>context_precision</th>\n",
       "      <th>context_recall</th>\n",
       "      <th>faithfulness</th>\n",
       "      <th>answer_relevancy</th>\n",
       "    </tr>\n",
       "  </thead>\n",
       "  <tbody>\n",
       "    <tr>\n",
       "      <th>0</th>\n",
       "      <td>伙食补助费标准是什么?</td>\n",
       "      <td>[上下文1: &lt;table&gt;&lt;caption&gt;伙食补助费参考以下标准：&lt;/caption&gt;\\...</td>\n",
       "      <td>伙食补助费的标准如下：\\n\\n- 西藏、青海、新疆：120 元/人、天\\n- 其他省份：10...</td>\n",
       "      <td>伙食补助费标准: 西藏、青海、新疆 120元/人、天 其他省份 100元/人、天</td>\n",
       "      <td>1.0</td>\n",
       "      <td>1.0</td>\n",
       "      <td>1.00</td>\n",
       "      <td>0.960389</td>\n",
       "    </tr>\n",
       "    <tr>\n",
       "      <th>1</th>\n",
       "      <td>出差可以买意外保险吗？需要自己购买吗</td>\n",
       "      <td>[上下文1: 差旅费用标准\\n差旅费开支范围包括工作人员临时到常驻地以外地区公务出差所发生的...</td>\n",
       "      <td>根据公司的差旅费用标准，乘坐飞机、火车、轮船等交通工具的，每人次可以购买交通意外保险一份。如...</td>\n",
       "      <td>出差可以购买交通意外保险，由单位统一购买，不再重复购买</td>\n",
       "      <td>1.0</td>\n",
       "      <td>1.0</td>\n",
       "      <td>0.75</td>\n",
       "      <td>0.937492</td>\n",
       "    </tr>\n",
       "  </tbody>\n",
       "</table>\n",
       "</div>"
      ],
      "text/plain": [
       "           user_input                                 retrieved_contexts  \\\n",
       "0         伙食补助费标准是什么?  [上下文1: <table><caption>伙食补助费参考以下标准：</caption>\\...   \n",
       "1  出差可以买意外保险吗？需要自己购买吗  [上下文1: 差旅费用标准\\n差旅费开支范围包括工作人员临时到常驻地以外地区公务出差所发生的...   \n",
       "\n",
       "                                            response  \\\n",
       "0  伙食补助费的标准如下：\\n\\n- 西藏、青海、新疆：120 元/人、天\\n- 其他省份：10...   \n",
       "1  根据公司的差旅费用标准，乘坐飞机、火车、轮船等交通工具的，每人次可以购买交通意外保险一份。如...   \n",
       "\n",
       "                                  reference  context_precision  \\\n",
       "0  伙食补助费标准: 西藏、青海、新疆 120元/人、天 其他省份 100元/人、天                1.0   \n",
       "1               出差可以购买交通意外保险，由单位统一购买，不再重复购买                1.0   \n",
       "\n",
       "   context_recall  faithfulness  answer_relevancy  \n",
       "0             1.0          1.00          0.960389  \n",
       "1             1.0          0.75          0.937492  "
      ]
     },
     "execution_count": 16,
     "metadata": {},
     "output_type": "execute_result"
    }
   ],
   "source": [
    "df"
   ]
  }
 ],
 "metadata": {
  "kernelspec": {
   "display_name": "ai",
   "language": "python",
   "name": "python3"
  },
  "language_info": {
   "codemirror_mode": {
    "name": "ipython",
    "version": 3
   },
   "file_extension": ".py",
   "mimetype": "text/x-python",
   "name": "python",
   "nbconvert_exporter": "python",
   "pygments_lexer": "ipython3",
   "version": "3.10.12"
  }
 },
 "nbformat": 4,
 "nbformat_minor": 0
}
